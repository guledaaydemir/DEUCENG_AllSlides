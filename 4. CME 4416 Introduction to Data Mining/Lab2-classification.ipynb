{
 "cells": [
  {
   "cell_type": "code",
   "execution_count": 29,
   "metadata": {},
   "outputs": [],
   "source": [
    "from sklearn import datasets\n",
    "breast_cancer = datasets.load_breast_cancer()\n",
    "X = breast_cancer.data\n",
    "y = breast_cancer.target\n",
    "\n",
    "from sklearn.cross_validation import train_test_split\n",
    "from sklearn.metrics import accuracy_score\n",
    "\n",
    "X_train, X_test, y_train, y_test = train_test_split(X, y, test_size=0.2, random_state=42)"
   ]
  },
  {
   "cell_type": "code",
   "execution_count": 68,
   "metadata": {},
   "outputs": [
    {
     "name": "stdout",
     "output_type": "stream",
     "text": [
      "0.9736842105263158\n",
      "             precision    recall  f1-score   support\n",
      "\n",
      "          0       1.00      0.93      0.96        43\n",
      "          1       0.96      1.00      0.98        71\n",
      "\n",
      "avg / total       0.97      0.97      0.97       114\n",
      "\n",
      "[[40  3]\n",
      " [ 0 71]]\n"
     ]
    }
   ],
   "source": [
    "from sklearn.naive_bayes import GaussianNB\n",
    "#Create a Gaussian Classifier\n",
    "NB = GaussianNB()\n",
    "\n",
    "# Train the model using the training sets \n",
    "NB.fit(X_train, y_train)\n",
    "\n",
    "#Predict Output \n",
    "predicted= NB.predict(X_test)\n",
    "\n",
    "from sklearn.metrics import accuracy_score\n",
    "print(accuracy_score (y_test, predicted))\n",
    "\n",
    "from sklearn.metrics import classification_report\n",
    "report = classification_report(y_test, predicted)\n",
    "print (report)\n",
    "\n",
    "from sklearn.metrics import confusion_matrix\n",
    "conf= confusion_matrix(y_test,predicted)\n",
    "print (conf)"
   ]
  },
  {
   "cell_type": "code",
   "execution_count": 65,
   "metadata": {},
   "outputs": [
    {
     "name": "stdout",
     "output_type": "stream",
     "text": [
      "0.9473684210526315\n",
      "             precision    recall  f1-score   support\n",
      "\n",
      "          0       0.97      0.88      0.93        43\n",
      "          1       0.93      0.99      0.96        71\n",
      "\n",
      "avg / total       0.95      0.95      0.95       114\n",
      "\n",
      "[[38  5]\n",
      " [ 1 70]]\n"
     ]
    }
   ],
   "source": [
    "from sklearn import tree\n",
    "DT = tree.DecisionTreeClassifier(criterion='entropy') # for classification, here you can change the algorithm as gini or entropy (information gain) by default it is gini  \n",
    "# model = tree.DecisionTreeRegressor() for regression\n",
    "# Train the model using the training sets and check score\n",
    "DT.fit(X_train, y_train)\n",
    "#Predict Output\n",
    "predicted= DT.predict(X_test)\n",
    "\n",
    "\n",
    "print(accuracy_score (y_test, predicted))\n",
    "report = classification_report(y_test, predicted)\n",
    "print (report)\n",
    "conf= confusion_matrix(y_test,predicted)\n",
    "print (conf)"
   ]
  },
  {
   "cell_type": "code",
   "execution_count": 69,
   "metadata": {},
   "outputs": [
    {
     "name": "stdout",
     "output_type": "stream",
     "text": [
      "0.9298245614035088\n"
     ]
    }
   ],
   "source": [
    "from sklearn.neighbors import KNeighborsClassifier\n",
    "\n",
    "# instantiate learning model (k = 3)\n",
    "knn = KNeighborsClassifier(n_neighbors=3)\n",
    "\n",
    "# fitting the model\n",
    "knn.fit(X_train, y_train)\n",
    "\n",
    "# predict the response\n",
    "y_pred = knn.predict(X_test)\n",
    "\n",
    "# evaluate accuracy\n",
    "print (accuracy_score(y_test, y_pred))"
   ]
  },
  {
   "cell_type": "code",
   "execution_count": 53,
   "metadata": {},
   "outputs": [
    {
     "name": "stdout",
     "output_type": "stream",
     "text": [
      "Accuracy is  92.98245614035088 % for K-Value: 1\n",
      "Accuracy is  92.98245614035088 % for K-Value: 2\n",
      "Accuracy is  92.98245614035088 % for K-Value: 3\n",
      "Accuracy is  93.85964912280701 % for K-Value: 4\n",
      "Accuracy is  95.6140350877193 % for K-Value: 5\n",
      "Accuracy is  96.49122807017544 % for K-Value: 6\n",
      "Accuracy is  95.6140350877193 % for K-Value: 7\n",
      "Accuracy is  95.6140350877193 % for K-Value: 8\n",
      "Accuracy is  95.6140350877193 % for K-Value: 9\n",
      "Accuracy is  97.36842105263158 % for K-Value: 10\n",
      "Accuracy is  98.24561403508771 % for K-Value: 11\n",
      "Accuracy is  98.24561403508771 % for K-Value: 12\n",
      "Accuracy is  97.36842105263158 % for K-Value: 13\n",
      "Accuracy is  97.36842105263158 % for K-Value: 14\n",
      "Accuracy is  96.49122807017544 % for K-Value: 15\n",
      "Accuracy is  96.49122807017544 % for K-Value: 16\n",
      "Accuracy is  96.49122807017544 % for K-Value: 17\n",
      "Accuracy is  96.49122807017544 % for K-Value: 18\n",
      "Accuracy is  96.49122807017544 % for K-Value: 19\n",
      "Accuracy is  96.49122807017544 % for K-Value: 20\n",
      "Accuracy is  96.49122807017544 % for K-Value: 21\n",
      "Accuracy is  96.49122807017544 % for K-Value: 22\n",
      "Accuracy is  95.6140350877193 % for K-Value: 23\n",
      "Accuracy is  96.49122807017544 % for K-Value: 24\n",
      "Accuracy is  94.73684210526315 % for K-Value: 25\n"
     ]
    }
   ],
   "source": [
    "accscr =np.empty((25))\n",
    "kvalues = np.empty((25))\n",
    "for K in range(25):\n",
    " K_value = K+1\n",
    " neigh = KNeighborsClassifier(n_neighbors = K_value, weights='uniform', algorithm='auto')\n",
    " neigh.fit(X_train, y_train) \n",
    " y_pred = neigh.predict(X_test)\n",
    " accscr[K] = accuracy_score(y_test,y_pred)*100\n",
    " kvalues[K]= K+1\n",
    " print (\"Accuracy is \", accscr[K],\"% for K-Value:\",K_value)"
   ]
  },
  {
   "cell_type": "code",
   "execution_count": 54,
   "metadata": {},
   "outputs": [
    {
     "data": {
      "image/png": "[encoded data removed]",
      "text/plain": [
       "<matplotlib.figure.Figure at 0x17248eaccc0>"
      ]
     },
     "metadata": {},
     "output_type": "display_data"
    }
   ],
   "source": [
    "import matplotlib.pyplot as plt\n",
    "\n",
    "plt.plot(kvalues, accscr, color='blue', linewidth=3)\n",
    "\n",
    "plt.show()"
   ]
  },
  {
   "cell_type": "code",
   "execution_count": 70,
   "metadata": {},
   "outputs": [
    {
     "name": "stdout",
     "output_type": "stream",
     "text": [
      "[0.51304348 0.5826087  0.53097345 0.50442478 0.54867257]\n",
      "0.5359445940746441\n"
     ]
    }
   ],
   "source": [
    "#X=np.append(X_train, X_test,axis = 0) \n",
    "#y=np.append(y_train, y_test,axis = 0) \n",
    "from sklearn import cross_validation, metrics \n",
    "cv_score = cross_validation.cross_val_score(knn, X, y, cv=5, scoring='accuracy')#or scoring=roc_auc\n",
    "print(cv_score)\n",
    "print(cv_score.mean())"
   ]
  },
  {
   "cell_type": "code",
   "execution_count": 62,
   "metadata": {},
   "outputs": [
    {
     "name": "stdout",
     "output_type": "stream",
     "text": [
      "[0.67346939 0.65697674]\n",
      "0.6652230659705742\n"
     ]
    }
   ],
   "source": [
    "from sklearn import cross_validation, metrics \n",
    "cv_score = cross_validation.cross_val_score(DT, X, y, cv=2, scoring='precision')\n",
    "print(cv_score)\n",
    "print(cv_score.mean())"
   ]
  },
  {
   "cell_type": "code",
   "execution_count": 63,
   "metadata": {},
   "outputs": [
    {
     "name": "stdout",
     "output_type": "stream",
     "text": [
      "[0.69832402 0.78651685]\n",
      "0.7424204381394766\n"
     ]
    }
   ],
   "source": [
    "from sklearn import cross_validation, metrics \n",
    "cv_score = cross_validation.cross_val_score(NB, X, y, cv=2, scoring='recall')\n",
    "print(cv_score)\n",
    "print(cv_score.mean())"
   ]
  }
 ],
 "metadata": {
  "kernelspec": {
   "display_name": "Python 3",
   "language": "python",
   "name": "python3"
  },
  "language_info": {
   "codemirror_mode": {
    "name": "ipython",
    "version": 3
   },
   "file_extension": ".py",
   "mimetype": "text/x-python",
   "name": "python",
   "nbconvert_exporter": "python",
   "pygments_lexer": "ipython3",
   "version": "3.6.2"
  }
 },
 "nbformat": 4,
 "nbformat_minor": 2
}
